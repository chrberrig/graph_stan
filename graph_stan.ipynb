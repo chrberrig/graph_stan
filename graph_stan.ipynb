{
 "cells": [
  {
   "cell_type": "code",
   "execution_count": 1,
   "id": "ac4ff68e",
   "metadata": {},
   "outputs": [],
   "source": [
    "import re\n",
    "import graphviz\n",
    "import argparse\n"
   ]
  },
  {
   "cell_type": "code",
   "execution_count": 35,
   "id": "017371cc",
   "metadata": {},
   "outputs": [],
   "source": [
    "def remove_comments(content):\n",
    "    # Remove single-line comments (// ...)\n",
    "    content = re.sub(r'//.*', '', content)\n",
    "    # Remove multi-line comments (/* ... */)\n",
    "    content = re.sub(r'/\\*.*?\\*/', '', content, flags=re.DOTALL)\n",
    "    return content\n",
    "\n",
    "def parse_stan_model(file_path):\n",
    "    with open(file_path, 'r') as file:\n",
    "        content = file.read()\n",
    "\n",
    "    # Remove comments\n",
    "    content = remove_comments(content)\n",
    "    \n",
    "    # Regular expressions to capture different blocks\n",
    "    data_block = re.search(r'data \\{(.*?)\\}', content, re.DOTALL)\n",
    "    parameters_block = re.search(r'parameters \\{(.*?)\\}', content, re.DOTALL)\n",
    "    model_block = re.search(r'model \\{(.*?)\\}', content, re.DOTALL)\n",
    "\n",
    "    return data_block.group(1) if data_block else '', parameters_block.group(1) if parameters_block else '', model_block.group(1) if model_block else ''\n"
   ]
  },
  {
   "cell_type": "code",
   "execution_count": null,
   "id": "d7a6e0df",
   "metadata": {},
   "outputs": [],
   "source": [
    "#out = parse_stan_model(\"linreg_iris.stan\")\n",
    "#print(out)\n",
    "#for o in out:\n",
    "#    print(o)\n",
    "#    print(\"--\"*20)"
   ]
  },
  {
   "cell_type": "code",
   "execution_count": 46,
   "id": "77255a33",
   "metadata": {},
   "outputs": [],
   "source": [
    "def create_graph(data_block, parameters_block, model_block):\n",
    "    dot = graphviz.Digraph()\n",
    "\n",
    "    data_vars = []\n",
    "    param_vars = []\n",
    "    \n",
    "    # Add nodes for data block\n",
    "    if data_block:\n",
    "        data_vars = re.findall(r'\\b(int|real|vector|array)(?:<[^>]*>)?\\s+(\\w+)', data_block)\n",
    "        #for var_type, var_name in data_vars:\n",
    "        #    dot.node(var_name, var_name)\n",
    "\n",
    "    # Add nodes for parameters block\n",
    "    if parameters_block:\n",
    "        param_vars = re.findall(r'\\b(real|vector|array)(?:<[^>]*>)?\\s+(\\w+)', parameters_block)\n",
    "        #for var_type, var_name in param_vars:\n",
    "        #    dot.node(var_name, var_name)\n",
    "\n",
    "    # Add edges for model block\n",
    "    if model_block:\n",
    "        model_vars = re.findall(r'(\\w+) ~ (.*?);', model_block)\n",
    "        for var, dist in model_vars:\n",
    "            node_label = f'{var} ~ {dist}'\n",
    "            dot.node(var, node_label)\n",
    "            dependencies = re.findall(r'\\b(\\w+)\\b', dist)\n",
    "            for dep in dependencies:\n",
    "                if dep != var and dep in [v[1] for v in data_vars + param_vars]:\n",
    "                    dot.edge(dep, var)\n",
    "\n",
    "    return dot"
   ]
  },
  {
   "cell_type": "code",
   "execution_count": 6,
   "id": "669123a9",
   "metadata": {},
   "outputs": [],
   "source": [
    "#out2 = create_graph(*out)\n",
    "#print(out2)"
   ]
  },
  {
   "cell_type": "code",
   "execution_count": 48,
   "id": "53489a98",
   "metadata": {},
   "outputs": [],
   "source": [
    "def visualize_stan_model(file_path):\n",
    "    data_block, parameters_block, model_block = parse_stan_model(file_path)\n",
    "    dot = create_graph(data_block, parameters_block, model_block)\n",
    "    dot.render('stan_model', format='png', view=True)\n"
   ]
  },
  {
   "cell_type": "code",
   "execution_count": 5,
   "id": "ea45c46e",
   "metadata": {},
   "outputs": [],
   "source": [
    "#visualize_stan_model(\"linreg_iris.stan\")"
   ]
  },
  {
   "cell_type": "code",
   "execution_count": null,
   "id": "61ff5d37",
   "metadata": {},
   "outputs": [],
   "source": []
  }
 ],
 "metadata": {
  "kernelspec": {
   "display_name": "Python 3 (ipykernel)",
   "language": "python",
   "name": "python3"
  },
  "language_info": {
   "codemirror_mode": {
    "name": "ipython",
    "version": 3
   },
   "file_extension": ".py",
   "mimetype": "text/x-python",
   "name": "python",
   "nbconvert_exporter": "python",
   "pygments_lexer": "ipython3",
   "version": "3.11.2"
  }
 },
 "nbformat": 4,
 "nbformat_minor": 5
}
